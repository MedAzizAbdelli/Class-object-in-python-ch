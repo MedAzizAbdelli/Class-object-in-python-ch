{
 "cells": [
  {
   "cell_type": "code",
   "execution_count": null,
   "id": "434fd1f0",
   "metadata": {},
   "outputs": [],
   "source": [
    "print(\"Question 1\")\n",
    "class Point3D:\n",
    "    def __init__(self, x, y, z):\n",
    "        self.x = x\n",
    "        self.y = y\n",
    "        self.z = z\n",
    "        \n",
    "    def represent(self):\n",
    "        return print('(',self.x,self.y,self.z,')')\n",
    "    \n",
    "my_point = Point3D(1, 2, 3)\n",
    "my_point.represent()"
   ]
  },
  {
   "cell_type": "code",
   "execution_count": null,
   "id": "d65a6e22",
   "metadata": {},
   "outputs": [],
   "source": [
    "print(\"Question 2\")\n",
    "class Rectangle():\n",
    "    def __init__(self, length, width):\n",
    "        self.length = length\n",
    "        self.width  = width\n",
    "\n",
    "    def rectangle_area(self):\n",
    "        return self.length*self.width\n",
    "    def rectangle_perimeter(self):\n",
    "        return 2*(self.length+self.width)\n",
    "\n",
    "my_rectangle = Rectangle(4, 3)\n",
    "print(my_rectangle.rectangle_area())\n",
    "print(my_rectangle.rectangle_perimeter())"
   ]
  },
  {
   "cell_type": "code",
   "execution_count": null,
   "id": "ba9904ef",
   "metadata": {},
   "outputs": [],
   "source": [
    "print(\"Question 3\")\n",
    "class Circle():\n",
    "    def __init__(self, r, O):\n",
    "        self.center = O\n",
    "        self.radius = r\n",
    "\n",
    "    def area(self):\n",
    "        return self.radius**2*3.14\n",
    "    \n",
    "    def perimeter(self):\n",
    "        return 2*self.radius*3.14\n",
    "    \n",
    "    def inside(self):\n",
    "        x = int(input())\n",
    "        y = int(input())\n",
    "        if x<self.radius and y<self.radius:\n",
    "            return True\n",
    "        else:\n",
    "            return False\n",
    "newCercle = Circle(7,0)\n",
    "newCercle.area()\n",
    "newCercle.perimeter()\n",
    "newCercle.inside()\n",
    "    \n",
    "    \n",
    "    \n",
    "\n"
   ]
  },
  {
   "cell_type": "code",
   "execution_count": 9,
   "id": "e26abb46",
   "metadata": {},
   "outputs": [
    {
     "name": "stdout",
     "output_type": "stream",
     "text": [
      "Question 4\n",
      "200\n",
      "W/Dw\n",
      "20\n",
      "180\n"
     ]
    }
   ],
   "source": [
    "print(\"Question 4\")\n",
    "x = int(input())\n",
    "\n",
    "\n",
    "class Bank:\n",
    "    def __init__(self, balance):\n",
    "        self.balance = x  \n",
    "    def deposit(self):\n",
    "        print(self.balance + p)\n",
    "        return self.balance + p\n",
    "    def withdraw(self):\n",
    "        print(self.balance - m)\n",
    "        return self.balance - m\n",
    "        \n",
    "new_amount = Bank(x)\n",
    "\n",
    "ask = input('W/D')\n",
    "if ask == \"w\" or ask == 'W':\n",
    "    m = int(input())\n",
    "    new_amount.withdraw()\n",
    "    \n",
    "else:\n",
    "    p = int(input())\n",
    "    new_amount.deposit()\n",
    "\n",
    "\n",
    "    "
   ]
  },
  {
   "cell_type": "code",
   "execution_count": null,
   "id": "92c52aa0",
   "metadata": {},
   "outputs": [],
   "source": []
  },
  {
   "cell_type": "code",
   "execution_count": null,
   "id": "7c66a0cb",
   "metadata": {},
   "outputs": [],
   "source": []
  }
 ],
 "metadata": {
  "kernelspec": {
   "display_name": "Python 3 (ipykernel)",
   "language": "python",
   "name": "python3"
  },
  "language_info": {
   "codemirror_mode": {
    "name": "ipython",
    "version": 3
   },
   "file_extension": ".py",
   "mimetype": "text/x-python",
   "name": "python",
   "nbconvert_exporter": "python",
   "pygments_lexer": "ipython3",
   "version": "3.9.12"
  }
 },
 "nbformat": 4,
 "nbformat_minor": 5
}
